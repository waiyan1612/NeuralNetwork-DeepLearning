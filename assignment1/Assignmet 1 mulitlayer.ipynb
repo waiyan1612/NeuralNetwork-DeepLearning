{
 "cells": [
  {
   "cell_type": "code",
   "execution_count": 1,
   "metadata": {
    "collapsed": false
   },
   "outputs": [],
   "source": [
    "# Python imports\n",
    "import numpy as np # Matrix and vector computation package\n",
    "import matplotlib.pyplot as plt  # Plotting library\n",
    "# Allow matplotlib to plot inside this notebook\n",
    "%matplotlib inline\n",
    "# Set the seed of the numpy random number generator so that the tutorial is reproducable\n",
    "np.random.seed(seed=1)\n",
    "from sklearn import datasets, metrics # data and evaluation utils\n",
    "from matplotlib.colors import colorConverter, ListedColormap # some plotting functions\n",
    "import itertools\n",
    "import collections\n",
    "import math\n",
    "import csv\n"
   ]
  },
  {
   "cell_type": "code",
   "execution_count": 2,
   "metadata": {
    "collapsed": false
   },
   "outputs": [],
   "source": [
    "def print_weights(filename, weights):\n",
    "    with open(filename, \"w\") as f:\n",
    "        writer = csv.writer(f)\n",
    "        for w in weights:\n",
    "            writer.writerows(w)\n",
    "\n",
    "# Define the non-linear functions used\n",
    "def logistic(z): \n",
    "    #return 1 / (1 + np.exp(-z))\n",
    "    #return np.maximum(0, z)\n",
    "    return z * (z > 0)\n",
    "\n",
    "def logistic_deriv(y):  # Derivative of logistic function\n",
    "    #return np.multiply(y, (1 - y))\n",
    "    return 1. * (y > 0)\n",
    "    \n",
    "def softmax(z):\n",
    "    return np.exp(z) / np.sum(np.exp(z), axis=1, keepdims=True)\n",
    "    #return logistic(x)\n",
    "    #e_x = np.exp(x - np.max(x))\n",
    "    #a=  e_x / np.sum(e_x, axis=0, keepdims = True)\n",
    "    #return a"
   ]
  },
  {
   "cell_type": "code",
   "execution_count": 3,
   "metadata": {
    "collapsed": true
   },
   "outputs": [],
   "source": [
    "# Define the layers used in this model\n",
    "class Layer(object):\n",
    "    \"\"\"Base class for the different layers.\n",
    "    Defines base methods and documentation of methods.\"\"\"\n",
    "    \n",
    "    def get_layer_type(self):\n",
    "        return \"\"\n",
    "    \n",
    "    def get_params_iter(self):\n",
    "        \"\"\"Return an iterator over the parameters (if any).\n",
    "        The iterator has the same order as get_params_grad.\n",
    "        The elements returned by the iterator are editable in-place.\"\"\"\n",
    "        return []\n",
    "    \n",
    "    def get_params_grad(self, X, output_grad):\n",
    "        \"\"\"Return a list of gradients over the parameters.\n",
    "        The list has the same order as the get_params_iter iterator.\n",
    "        X is the input.\n",
    "        output_grad is the gradient at the output of this layer.\n",
    "        \"\"\"\n",
    "        return []\n",
    "    \n",
    "    def get_output(self, X):\n",
    "        \"\"\"Perform the forward step linear transformation.\n",
    "        X is the input.\"\"\"\n",
    "        pass\n",
    "    \n",
    "    def getW(self):\n",
    "        return []\n",
    "    \n",
    "    def get_input_grad(self, Y, output_grad=None, T=None):\n",
    "        \"\"\"Return the gradient at the inputs of this layer.\n",
    "        Y is the pre-computed output of this layer (not needed in this case).\n",
    "        output_grad is the gradient at the output of this layer \n",
    "         (gradient at input of next layer).\n",
    "        Output layer uses targets T to compute the gradient based on the \n",
    "         output error instead of output_grad\"\"\"\n",
    "        pass"
   ]
  },
  {
   "cell_type": "code",
   "execution_count": 4,
   "metadata": {
    "collapsed": true
   },
   "outputs": [],
   "source": [
    "class LinearLayer(Layer):\n",
    "    \"\"\"The linear layer performs a linear transformation to its input.\"\"\"\n",
    "    \n",
    "    def get_layer_type(self):\n",
    "        return \"linear\"\n",
    "    \n",
    "    def __init__(self, n_in, n_out):\n",
    "        \"\"\"Initialize hidden layer parameters.\n",
    "        n_in is the number of input variables.\n",
    "        n_out is the number of output variables.\"\"\"\n",
    "        self.W = np.random.randn(n_in, n_out) *0.1\n",
    "        self.b = np.zeros(n_out)\n",
    "\n",
    "        #self.b = n_out * 0.5\n",
    "        #self.W = np.random.randn(n_in, n_out).astype(np.float32) * np.sqrt(2.0/(n_in)) * 0.1\n",
    "        #self.b = np.zeros([n_out]).astype(np.float32)  * 0.1\n",
    "        #self.b = np.reshape(self.b,(n_out,1))\n",
    "        \n",
    "    def get_params_iter(self):\n",
    "        \"\"\"Return an iterator over the parameters.\"\"\"\n",
    "        return itertools.chain(np.nditer(self.W, op_flags=['readwrite']),\n",
    "                               np.nditer(self.b, op_flags=['readwrite']))\n",
    "    \n",
    "    def get_output(self, X):\n",
    "        \"\"\"Perform the forward step linear transformation.\"\"\"\n",
    "        return X.dot(self.W) + self.b\n",
    "        \n",
    "    def get_params_grad(self, X, output_grad):\n",
    "        \"\"\"Return a list of gradients over the parameters.\"\"\"\n",
    "        JW = X.T.dot(output_grad)\n",
    "        Jb = np.sum(output_grad, axis=0)\n",
    "        np.set_printoptions(suppress=True)\n",
    "        #print(\"JWshpe\"+ str(JW.T.shape))\n",
    "        #print(\"JW\"+ str(JW.T))\n",
    "        #print(\"JBshpe\"+ str(Jb.T.shape))\n",
    "        #print(\"JB\"+ str(Jb.T))\n",
    "        return [g for g in itertools.chain(np.nditer(JW), np.nditer(Jb))]\n",
    "    \n",
    "    def get_input_grad(self, Y, output_grad):\n",
    "        \"\"\"Return the gradient at the inputs of this layer.\"\"\"\n",
    "        return output_grad.dot(self.W.T)"
   ]
  },
  {
   "cell_type": "code",
   "execution_count": 5,
   "metadata": {
    "collapsed": true
   },
   "outputs": [],
   "source": [
    "class LogisticLayer(Layer):\n",
    "    \"\"\"The logistic layer applies the logistic function to its inputs.\"\"\"\n",
    "    \n",
    "    def get_layer_type(self):\n",
    "        return \"activation\"\n",
    "    \n",
    "    def get_output(self, X):\n",
    "        \"\"\"Perform the forward step transformation.\"\"\"\n",
    "        return logistic(X)\n",
    "    \n",
    "    def get_input_grad(self, Y, output_grad):\n",
    "        \"\"\"Return the gradient at the inputs of this layer.\"\"\"\n",
    "        return np.multiply(logistic_deriv(Y), output_grad)"
   ]
  },
  {
   "cell_type": "code",
   "execution_count": 6,
   "metadata": {
    "collapsed": true
   },
   "outputs": [],
   "source": [
    "class SoftmaxOutputLayer(Layer):\n",
    "    \"\"\"The softmax output layer computes the classification propabilities at the output.\"\"\"\n",
    "    \n",
    "    def get_layer_type(self):\n",
    "        return \"activation\"\n",
    "    \n",
    "    def get_output(self, X):\n",
    "        \"\"\"Perform the forward step transformation.\"\"\"\n",
    "        return softmax(X)\n",
    "    \n",
    "    def get_input_grad(self, Y, T):\n",
    "        \"\"\"Return the gradient at the inputs of this layer.\"\"\"\n",
    "        return (Y - T) / Y.shape[0]\n",
    "    \n",
    "    def get_cost(self, Y, T):\n",
    "        \"\"\"Return the cost at the output of this output layer.\"\"\"\n",
    "        return - np.multiply(T, np.ma.log(Y)).sum() / Y.shape[0]"
   ]
  },
  {
   "cell_type": "code",
   "execution_count": 7,
   "metadata": {
    "collapsed": true
   },
   "outputs": [],
   "source": [
    "def to_onehot_vec(data, shape):\n",
    "    Y = np.zeros(shape=shape, dtype=int)\n",
    "    Y[data, np.arange(data.size)] = 1\n",
    "    return Y"
   ]
  },
  {
   "cell_type": "code",
   "execution_count": 8,
   "metadata": {
    "collapsed": false
   },
   "outputs": [
    {
     "name": "stdout",
     "output_type": "stream",
     "text": [
      "(9175, 4)\n"
     ]
    }
   ],
   "source": [
    "X = np.loadtxt(fname = \"Question2_123/x_train.csv\", dtype=int, delimiter=',', unpack=True)\n",
    "m = X.shape[1]\n",
    "\n",
    "split = math.ceil(0.7 * m)\n",
    "\n",
    "X_validate = X [:, split: ]\n",
    "X = X [:, : split]\n",
    "\n",
    "#X= [-1, 1, 1, 1, -1, -1, 1, -1, 1, 1, -1, -1, 1, 1]\n",
    "#X = np.reshape(X,  (14, 1))\n",
    "data = np.loadtxt(fname = \"Question2_123/y_train.csv\", dtype=int, delimiter=',')\n",
    "Y = to_onehot_vec(data, (4,m))\n",
    "\n",
    "Y_validate = Y [:, split: ]\n",
    "Y = Y [:, : split]\n",
    "\n",
    "X_test= np.loadtxt(fname = \"Question2_123/x_test.csv\", dtype=int, delimiter=',', unpack=True)\n",
    "\n",
    "\n",
    "data = np.loadtxt(fname = \"Question2_123/y_test.csv\", dtype=int, delimiter=',')\n",
    "Y_test = to_onehot_vec(data, (4, X_test.shape[1]))\n",
    "X= X.T\n",
    "X_validate = X_validate.T\n",
    "X_test = X_test.T\n",
    "Y = Y.T\n",
    "Y_validate = Y_validate.T\n",
    "Y_test = Y_test.T\n",
    "\n",
    "print(Y.shape)\n",
    "\n",
    "# Create the minibatches\n",
    "batch_size = 25\n",
    "no_of_batches = m / batch_size\n",
    "# Create batches (X,Y) from the training set\n",
    "batches = zip(\n",
    "    np.array_split(X, no_of_batches, axis=0),  # X samples\n",
    "    np.array_split(Y, no_of_batches, axis=0))  # Y targets\n",
    "\n",
    "biases = np.genfromtxt(fname = 'Question2_4/b/b-100-40-4.csv', delimiter=',')\n",
    "b1 = biases[0][:100]\n",
    "b2 = biases[1][:40]\n",
    "b3 = biases[2][:4]\n",
    "b1 = np.reshape(b1, (1, 100))\n",
    "b2 = np.reshape(b2, (1, 40))\n",
    "b3 = np.reshape(b3, (1, 4))\n",
    "\n",
    "weights = np.genfromtxt(fname = 'Question2_4/b/w-100-40-4.csv', delimiter=',')\n",
    "w1 = weights[:14,:100]\n",
    "w2 = weights[14:114,:40]\n",
    "w3 = weights[114:,:4]\n",
    "\n",
    "\n",
    "w1 = np.reshape(w1, (100, 14))\n",
    "w2 = np.reshape(w2, (40, 100))\n",
    "w3 = np.reshape(w3, (4, 40))\n",
    "ls_costs = []"
   ]
  },
  {
   "cell_type": "code",
   "execution_count": 9,
   "metadata": {
    "collapsed": false
   },
   "outputs": [],
   "source": [
    "# Define a sample model to be trained on the data\n",
    "hidden_neurons_1 = 40  # Number of neurons in the first hidden-layer\n",
    "hidden_neurons_2 = 100  # Number of neurons in the second hidden-layer\n",
    "# Create the model\n",
    "layers = [] # Define a list of layers\n",
    "# Add first hidden layer\n",
    "#layers.append(LinearLayer(w1,b1))\n",
    "layers.append(LinearLayer(X.shape[1], hidden_neurons_1))\n",
    "layers.append(LogisticLayer())\n",
    "# Add second hidden layer\n",
    "#layers.append(LinearLayer(w2,b2))\n",
    "layers.append(LinearLayer(hidden_neurons_1, hidden_neurons_2))\n",
    "layers.append(LogisticLayer())\n",
    "# Add output layer\n",
    "#layers.append(LinearLayer(w3,b3))\n",
    "layers.append(LinearLayer(hidden_neurons_2, Y.shape[1]))\n",
    "layers.append(SoftmaxOutputLayer())"
   ]
  },
  {
   "cell_type": "code",
   "execution_count": 10,
   "metadata": {
    "collapsed": false
   },
   "outputs": [],
   "source": [
    "# Define the forward propagation step as a method.\n",
    "def forward_step(input_samples, layers):\n",
    "    \"\"\"\n",
    "    Compute and return the forward activation of each layer in layers.\n",
    "    Input:\n",
    "        input_samples: A matrix of input samples (each row is an input vector)\n",
    "        layers: A list of Layers\n",
    "    Output:\n",
    "        A list of activations where the activation at each index i+1 corresponds to\n",
    "        the activation of layer i in layers. activations[0] contains the input samples.  \n",
    "    \"\"\"\n",
    "    activations = [input_samples] # List of layer activations\n",
    "    # Compute the forward activations for each layer starting from the first\n",
    "    X = input_samples\n",
    "    for layer in layers:\n",
    "        Y = layer.get_output(X)  # Get the output of the current layer\n",
    "        activations.append(Y)  # Store the output for future processing\n",
    "        X = activations[-1]  # Set the current input as the activations of the previous layer\n",
    "    return activations  # Return the activations of each layer"
   ]
  },
  {
   "cell_type": "code",
   "execution_count": 11,
   "metadata": {
    "collapsed": true
   },
   "outputs": [],
   "source": [
    "# Define the backward propagation step as a method\n",
    "def backward_step(activations, targets, layers):\n",
    "    \"\"\"\n",
    "    Perform the backpropagation step over all the layers and return the parameter gradients.\n",
    "    Input:\n",
    "        activations: A list of forward step activations where the activation at \n",
    "            each index i+1 corresponds to the activation of layer i in layers. \n",
    "            activations[0] contains the input samples. \n",
    "        targets: The output targets of the output layer.\n",
    "        layers: A list of Layers corresponding that generated the outputs in activations.\n",
    "    Output:\n",
    "        A list of parameter gradients where the gradients at each index corresponds to\n",
    "        the parameters gradients of the layer at the same index in layers. \n",
    "    \"\"\"\n",
    "    param_grads = collections.deque()  # List of parameter gradients for each layer\n",
    "    output_grad = None  # The error gradient at the output of the current layer\n",
    "    # Propagate the error backwards through all the layers.\n",
    "    # Use reversed to iterate backwards over the list of layers.\n",
    "    for layer in reversed(layers):   \n",
    "        Y = activations.pop()  # Get the activations of the last layer on the stack\n",
    "        # Compute the error at the output layer.\n",
    "        # The output layer error is calculated different then hidden layer error.\n",
    "        if output_grad is None:\n",
    "            input_grad = layer.get_input_grad(Y, targets)\n",
    "        else:  # output_grad is not None (layer is not output layer)\n",
    "            input_grad = layer.get_input_grad(Y, output_grad)\n",
    "        # Get the input of this layer (activations of the previous layer)\n",
    "        X = activations[-1]\n",
    "        # Compute the layer parameter gradients used to update the parameters\n",
    "        grads = layer.get_params_grad(X, output_grad)\n",
    "        param_grads.appendleft(grads)\n",
    "        # Compute gradient at output of previous layer (input of current layer):\n",
    "        output_grad = input_grad\n",
    "    return list(param_grads)  # Return the parameter gradients"
   ]
  },
  {
   "cell_type": "code",
   "execution_count": 12,
   "metadata": {
    "collapsed": false
   },
   "outputs": [],
   "source": [
    "# Define a method to update the parameters\n",
    "def update_params(layers, param_grads, learning_rate):\n",
    "    \"\"\"\n",
    "    Function to update the parameters of the given layers with the given gradients\n",
    "    by gradient descent with the given learning rate.\n",
    "    \"\"\"\n",
    "    weights = [];\n",
    "    for layer, layer_backprop_grads in zip(layers, param_grads):\n",
    "        for param, grad in zip(layer.get_params_iter(), layer_backprop_grads):\n",
    "            # The parameter returned by the iterator point to the memory space of\n",
    "            #  the original layer and can thus be modified inplace.\n",
    "            \"\"\"\"\n",
    "            if(layer.get_layer_type() == \"linear\"):|\n",
    "                reg = 0.002* np.sum(layer.W)/layer.W.shape[1]\n",
    "                #print(np.sum(layer.W))\n",
    "            else:\n",
    "                reg = 0\n",
    "            \"\"\"\n",
    "            param -= learning_rate * grad    # Update each parameter\n",
    "        #if(layer.get_layer_type() == \"linear\"):\n",
    "            #weights.append(layer.W)\n",
    "            #print(layer.W)\n",
    "    #print_weights(\"weights\"+str(i)+\".csv\", weights);\n",
    "    \n"
   ]
  },
  {
   "cell_type": "code",
   "execution_count": 13,
   "metadata": {
    "collapsed": false
   },
   "outputs": [],
   "source": [
    "# Perform backpropagation\n",
    "# initalize some lists to store the cost for future analysis       \n",
    "training_costs = []\n",
    "testing_costs= []\n",
    "minibatch_costs = []\n",
    "validation_costs= []\n",
    "\n",
    "max_nb_of_iterations = 700  # Train for a maximum of 300 iterations\n",
    "learning_rate = 0.1  # Gradient descent learning rate\n",
    "\n",
    "use_mini_batch = False\n",
    "\n",
    "# Train for the maximum number of iterations\n",
    "for iteration in range(max_nb_of_iterations):\n",
    "    #print(\"iter: \" + str(iteration))\n",
    "    if not use_mini_batch:\n",
    "        activations = forward_step(X, layers)  # Get the activations\n",
    "        param_grads = backward_step(activations, Y, layers)  # Get the gradients        \n",
    "        update_params(layers, param_grads, learning_rate)  # Update the parameters\n",
    "    else: \n",
    "        for X_batch, Y_batch in batches:  # For each minibatch sub-iteration\n",
    "            activations = forward_step(X_batch, layers)  # Get the activations\n",
    "            minibatch_cost = layers[-1].get_cost(activations[-1], Y_batch)  # Get cost\n",
    "            minibatch_costs.append(minibatch_cost)\n",
    "            param_grads = backward_step(activations, Y_batch, layers)  # Get the gradients\n",
    "            update_params(layers, param_grads, learning_rate)  # Update the parameters\n",
    "\n",
    "    \n",
    "    # Get full training cost for future analysis (plots)\n",
    "    activations = forward_step(X, layers)\n",
    "    train_cost = layers[-1].get_cost(activations[-1], Y)\n",
    "    training_costs.append(train_cost)\n",
    "    #print(\"training cost:\" + str(train_cost))\n",
    "    \n",
    "    \"\"\"\n",
    "    # Get full testing cost for future analysis (plots)\n",
    "    activations_test= forward_step(X_test, layers)\n",
    "    test_cost = layers[-1].get_cost(activations_test[-1], Y_test)\n",
    "    testing_costs.append(test_cost)\n",
    "    \"\"\"\n",
    "    \n",
    "    # Get full validation cost\n",
    "    activations = forward_step(X_validate, layers)\n",
    "    validation_cost = layers[-1].get_cost(activations[-1], Y_validate)\n",
    "    validation_costs.append(validation_cost)\n",
    "\n",
    "    if len(validation_costs) > 3:\n",
    "        # Stop training if the cost on the validation set doesn't decrease\n",
    "        #  for 3 iterations\n",
    "        if validation_costs[-1] >= validation_costs[-2] >= validation_costs[-3]:\n",
    "            print(\"not decresasing\")\n",
    "    \n",
    "nb_of_iterations = iteration + 1  # The number of iterations that have been executed"
   ]
  },
  {
   "cell_type": "code",
   "execution_count": 14,
   "metadata": {
    "collapsed": false
   },
   "outputs": [
    {
     "data": {
      "image/png": "[encoded data removed]",
      "text/plain": [
       "<matplotlib.figure.Figure at 0x112e49898>"
      ]
     },
     "metadata": {},
     "output_type": "display_data"
    }
   ],
   "source": [
    "# Plot the cost over the iterations\n",
    "if not use_mini_batch:\n",
    "    plt.plot(training_costs, 'b-')\n",
    "    plt.xlabel('iteration')\n",
    "    plt.ylabel('$\\\\xi$', fontsize=15)\n",
    "    plt.title('Decrease of cost over backprop iteration')\n",
    "    plt.grid()\n",
    "    plt.show()\n",
    "else:\n",
    "    minibatch_costs = np.array(minibatch_costs);\n",
    "    minibatch_x_inds = np.linspace(0, nb_of_iterations, num=nb_of_iterations*no_of_batches)\n",
    "    iteration_x_inds = np.linspace(1, nb_of_iterations, num=nb_of_iterations)\n",
    "    \n",
    "    # Plot the cost over the iterations\n",
    "    #plt.plot(minibatch_x_inds, minibatch_costs, 'k-', linewidth=0.5, label='cost minibatches')\n",
    "    plt.plot(iteration_x_inds, training_costs, 'r-', linewidth=2, label='cost full training set')\n",
    "    plt.plot(iteration_x_inds, validation_costs, 'b-', linewidth=3, label='cost validation set')\n",
    "    # Add labels to the plot\n",
    "    \n",
    "    #plt.plot(minibatch_costs, 'b-')\n",
    "    \n",
    "    plt.xlabel('iteration')\n",
    "    plt.ylabel('$\\\\xi$', fontsize=15)\n",
    "    plt.title('Decrease of cost over backprop iteration')\n",
    "    plt.legend()\n",
    "    x1,x2,y1,y2 = plt.axis()\n",
    "    plt.axis((0,nb_of_iterations,0,2.5))\n",
    "    plt.grid()\n",
    "    plt.show()\n"
   ]
  },
  {
   "cell_type": "code",
   "execution_count": 15,
   "metadata": {
    "collapsed": false
   },
   "outputs": [
    {
     "name": "stdout",
     "output_type": "stream",
     "text": [
      "[[ 0.98682024  0.01317854  0.00000121  0.        ]]\n"
     ]
    }
   ],
   "source": [
    "X3= [-1, 1, 1, 1, -1, -1, 1, -1, 1, 1, -1, -1, 1, 1]\n",
    "X3= np.reshape(X3,  (1, 14))\n",
    "\n",
    "\n",
    "activations1 = forward_step(X3, layers)\n",
    "print(activations1.pop())"
   ]
  },
  {
   "cell_type": "code",
   "execution_count": 16,
   "metadata": {
    "collapsed": false
   },
   "outputs": [
    {
     "name": "stdout",
     "output_type": "stream",
     "text": [
      "[2 3 3 ..., 1 1 0]\n",
      "[2 3 3 ..., 1 1 1]\n",
      "The accuracy on the test set is 0.88\n"
     ]
    }
   ],
   "source": [
    "# Get results of test data\n",
    "y_true = np.argmax(Y_test, axis=1)  # Get the target outputs\n",
    "activations = forward_step(X_test, layers)  # Get activation of test samples\n",
    "y_pred = np.argmax(activations[-1], axis=1)  # Get the predictions made by the network\n",
    "test_accuracy = metrics.accuracy_score(y_true, y_pred)  # Test set accuracy\n",
    "print('The accuracy on the test set is {:.2f}'.format(test_accuracy))"
   ]
  }
 ],
 "metadata": {
  "kernelspec": {
   "display_name": "Python 3",
   "language": "python",
   "name": "python3"
  },
  "language_info": {
   "codemirror_mode": {
    "name": "ipython",
    "version": 3
   },
   "file_extension": ".py",
   "mimetype": "text/x-python",
   "name": "python",
   "nbconvert_exporter": "python",
   "pygments_lexer": "ipython3",
   "version": "3.6.0"
  }
 },
 "nbformat": 4,
 "nbformat_minor": 2
}
