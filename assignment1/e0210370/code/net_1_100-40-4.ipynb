{
 "cells": [
  {
   "cell_type": "code",
   "execution_count": null,
   "metadata": {
    "collapsed": true
   },
   "outputs": [],
   "source": [
    "# Python imports\n",
    "import numpy as np\n",
    "import matplotlib.pyplot as plt\n",
    "from sklearn import  metrics\n",
    "from matplotlib.colors import colorConverter, ListedColormap\n",
    "import itertools\n",
    "import collections\n",
    "import math\n",
    "import csv\n",
    "\n",
    "# Allow matplotlib to plot inside this notebook\n",
    "%matplotlib inline\n",
    "np.random.seed(seed=1)"
   ]
  },
  {
   "cell_type": "code",
   "execution_count": 2,
   "metadata": {
    "collapsed": true
   },
   "outputs": [],
   "source": [
    "def to_onehot_vec(data, shape):\n",
    "    Y = np.zeros(shape=shape, dtype=int)\n",
    "    Y[data, np.arange(data.size)] = 1\n",
    "    return Y\n",
    "\n",
    "def print_biases(filename, biases):\n",
    "    with open(filename,\"w\") as f:\n",
    "        f.write(\"\\n\".join(\",\".join(map(str, x)) for x in biases))\n",
    "\n",
    "def print_weights(filename, weights):\n",
    "    with open(filename, \"w\") as f:\n",
    "        writer = csv.writer(f)\n",
    "        for w in weights:\n",
    "            writer.writerows(w)\n",
    "            \n",
    "def ReLU(x): \n",
    "    return x * (x > 0)\n",
    "\n",
    "def dReLU(x): \n",
    "    return 1. * (x > 0)\n",
    "    \n",
    "def softmax(x): \n",
    "    e_x = np.exp(x - np.max(x))\n",
    "    return e_x / np.sum(e_x, axis=1, keepdims = True)"
   ]
  },
  {
   "cell_type": "code",
   "execution_count": 3,
   "metadata": {
    "collapsed": true
   },
   "outputs": [],
   "source": [
    "# Define the layers used in this model\n",
    "class Layer(object):    \n",
    "    def get_params_iter(self):\n",
    "        return []\n",
    "    \n",
    "    def get_params_grad(self, X, output_grad):\n",
    "        return []\n",
    "    \n",
    "    def get_output(self, X):\n",
    "        pass\n",
    "    \n",
    "    def get_input_grad(self, Y, output_grad=None, T=None):\n",
    "        pass"
   ]
  },
  {
   "cell_type": "code",
   "execution_count": 4,
   "metadata": {
    "collapsed": true
   },
   "outputs": [],
   "source": [
    "class LinearLayer(Layer):\n",
    "\n",
    "    def __init__(self, W, b):\n",
    "        self.W= W\n",
    "        self.b = b\n",
    "        \n",
    "    def get_params_iter(self):\n",
    "        return itertools.chain(np.nditer(self.W, op_flags=['readwrite']), np.nditer(self.b, op_flags=['readwrite']))\n",
    "    \n",
    "    def get_output(self, X):\n",
    "        return X.dot(self.W) + self.b\n",
    "        \n",
    "    def get_params_grad(self, X, output_grad):\n",
    "        JW = np.float32(X.T.dot(output_grad))\n",
    "        Jb = np.float32(np.sum(output_grad, axis=0))\n",
    "        \n",
    "        if testing_gradient:\n",
    "            global dW_test\n",
    "            global db_test\n",
    "            dW_test.append(JW)\n",
    "            db_test.append(Jb)\n",
    "        \n",
    "        return [g for g in itertools.chain(np.nditer(JW), np.nditer(Jb))]\n",
    "    \n",
    "    def get_input_grad(self, Y, output_grad):\n",
    "        return output_grad.dot(self.W.T)"
   ]
  },
  {
   "cell_type": "code",
   "execution_count": 5,
   "metadata": {
    "collapsed": true
   },
   "outputs": [],
   "source": [
    "class ReLULayer(Layer):\n",
    "    \n",
    "    def get_output(self, X):\n",
    "        return ReLU(X)\n",
    "    \n",
    "    def get_input_grad(self, Y, output_grad):\n",
    "        return np.multiply(dReLU(Y), output_grad)"
   ]
  },
  {
   "cell_type": "code",
   "execution_count": 6,
   "metadata": {
    "collapsed": true
   },
   "outputs": [],
   "source": [
    "class SoftmaxOutputLayer(Layer):\n",
    "    \n",
    "    def get_output(self, X):\n",
    "        \"\"\"Perform the forward step transformation.\"\"\"\n",
    "        return softmax(X)\n",
    "    \n",
    "    def get_input_grad(self, Y, T):\n",
    "        \"\"\"Return the gradient at the inputs of this layer.\"\"\"\n",
    "        return (Y - T) / Y.shape[0]\n",
    "    \n",
    "    def get_cost(self, Y, T):\n",
    "        \"\"\"Return the cost at the output of this output layer.\"\"\"\n",
    "        return - np.multiply(T, np.log(Y)).sum() / Y.shape[0]"
   ]
  },
  {
   "cell_type": "code",
   "execution_count": 7,
   "metadata": {
    "collapsed": true
   },
   "outputs": [],
   "source": [
    "X = np.loadtxt(fname = \"Question2_123/x_train.csv\", dtype=int, delimiter=',', unpack=True)\n",
    "m = X.shape[1]\n",
    "split = math.ceil(0.7 * m)\n",
    "\n",
    "X_validation = X [:, split: ]\n",
    "X_train = X [:, : split]\n",
    "X_test= np.loadtxt(fname = \"Question2_123/x_test.csv\", dtype=int, delimiter=',', unpack=True)\n",
    "\n",
    "data = np.loadtxt(fname = \"Question2_123/y_train.csv\", dtype=int, delimiter=',')\n",
    "Y = to_onehot_vec(data, (4, m))\n",
    "\n",
    "T_validation = Y [:, split: ]\n",
    "T_train = Y [:, : split]\n",
    "data = np.loadtxt(fname = \"Question2_123/y_test.csv\", dtype=int, delimiter=',')\n",
    "T_test = to_onehot_vec(data, (4, X_test.shape[1]))\n",
    "\n",
    "X_validation = X_validation.T\n",
    "X_train = X_train.T\n",
    "X_test = X_test.T\n",
    "\n",
    "T_validation = T_validation.T\n",
    "T_train = T_train.T\n",
    "T_test = T_test.T\n",
    "\n",
    "testing_gradient = False\n",
    "if testing_gradient:\n",
    "    multiplier = 1\n",
    "else:\n",
    "    multiplier = .1\n",
    "biases = np.genfromtxt(fname = 'Question2_4/c/b-100-40-4.csv', delimiter=',')\n",
    "b = []\n",
    "b.append(biases[0][:100] * multiplier) \n",
    "b.append(biases[1][:40] * multiplier) \n",
    "b.append(biases[2][:4] * multiplier) \n",
    "\n",
    "weights = np.genfromtxt(fname = 'Question2_4/c/w-100-40-4.csv', delimiter=',')\n",
    "w = []\n",
    "w.append(weights[:14,:100] * multiplier) \n",
    "w.append(weights[14:114,:40] * multiplier) \n",
    "w.append(weights[114:,:4] * multiplier)"
   ]
  },
  {
   "cell_type": "code",
   "execution_count": 8,
   "metadata": {
    "collapsed": true
   },
   "outputs": [],
   "source": [
    "# Create the model\n",
    "layers = [] # Define a list of layers\n",
    "\n",
    "layers.append(LinearLayer(w[0],b[0]))\n",
    "layers.append(ReLULayer())\n",
    "\n",
    "layers.append(LinearLayer(w[1],b[1]))\n",
    "layers.append(ReLULayer())\n",
    "\n",
    "layers.append(LinearLayer(w[2],b[2]))\n",
    "layers.append(SoftmaxOutputLayer())"
   ]
  },
  {
   "cell_type": "code",
   "execution_count": 9,
   "metadata": {
    "collapsed": true
   },
   "outputs": [],
   "source": [
    "# Define the forward propagation step\n",
    "def forward_step(input_samples, layers):\n",
    "    activations = [input_samples] \n",
    "    X = input_samples\n",
    "    for layer in layers:\n",
    "        Y = layer.get_output(X)\n",
    "        activations.append(Y)\n",
    "        X = activations[-1]  # Set the current input as the activations of the previous layer\n",
    "    return activations "
   ]
  },
  {
   "cell_type": "code",
   "execution_count": 10,
   "metadata": {
    "collapsed": true
   },
   "outputs": [],
   "source": [
    "# Define the backward propagation step as a method\n",
    "def backward_step(activations, targets, layers):\n",
    "\n",
    "    param_grads = collections.deque()\n",
    "    output_grad = None \n",
    "    \n",
    "    for layer in reversed(layers):   \n",
    "        Y = activations.pop()\n",
    "        \n",
    "        if output_grad is None:\n",
    "            input_grad = np.float32(layer.get_input_grad(Y, targets))\n",
    "        else:\n",
    "            input_grad = layer.get_input_grad(Y, output_grad)\n",
    "\n",
    "        # Get the input of this layer (activations of the previous layer)\n",
    "        X = activations[-1]\n",
    "        grads = layer.get_params_grad(X, output_grad)\n",
    "        param_grads.appendleft(grads)\n",
    "        \n",
    "        # Compute gradient at output of previous layer (input of current layer):\n",
    "        output_grad = input_grad\n",
    "    return list(param_grads)"
   ]
  },
  {
   "cell_type": "code",
   "execution_count": 11,
   "metadata": {
    "collapsed": true
   },
   "outputs": [],
   "source": [
    "# Perform gradient checking\n",
    "dW_test = [ ]\n",
    "db_test = [ ]\n",
    "\n",
    "X_temp= np.reshape([-1, 1, 1, 1, -1, -1, 1, -1, 1, 1, -1, -1, 1, 1],  (1, 14))\n",
    "T_temp= np.reshape([0,0,0,1],  (1, 4))\n",
    "activations = forward_step(X_temp, layers)\n",
    "param_grads = backward_step(activations, T_temp, layers)\n",
    "\n",
    "# Set the small change to compute the numerical gradient\n",
    "eps = 0.0001\n",
    "# Compute the numerical gradients of the parameters in all layers.\n",
    "for idx in range(len(layers)):\n",
    "    layer = layers[idx]\n",
    "    layer_backprop_grads = param_grads[idx]\n",
    "    # Compute the numerical gradient for each parameter in the layer\n",
    "    for p_idx, param in enumerate(layer.get_params_iter()):\n",
    "        grad_backprop = layer_backprop_grads[p_idx]\n",
    "        # + eps\n",
    "        param += eps\n",
    "        plus_cost = layers[-1].get_cost(forward_step(X_temp, layers)[-1],  T_temp)\n",
    "        # - eps\n",
    "        param -= 2 * eps\n",
    "        min_cost = layers[-1].get_cost(forward_step(X_temp, layers)[-1], T_temp)\n",
    "        # reset param value\n",
    "        param += eps\n",
    "        # calculate numerical gradient\n",
    "        grad_num = (plus_cost - min_cost)/(2*eps)\n",
    "\n",
    "if testing_gradient:\n",
    "    print_weights(\"output/dw-100-40-4.csv\", dW_test[::-1])\n",
    "    print_biases(\"output/db-100-40-4.csv\", db_test[::-1])\n",
    "testing_gradient = False"
   ]
  },
  {
   "cell_type": "code",
   "execution_count": 12,
   "metadata": {
    "collapsed": true
   },
   "outputs": [],
   "source": [
    "# Create the minibatches\n",
    "batch_size = 25\n",
    "nb_of_batches = X_train.shape[0] / batch_size\n",
    "\n",
    "XT_batches = list(zip(\n",
    "    np.array_split(X_train, nb_of_batches, axis=0),\n",
    "    np.array_split(T_train, nb_of_batches, axis=0)))"
   ]
  },
  {
   "cell_type": "code",
   "execution_count": 13,
   "metadata": {
    "collapsed": true
   },
   "outputs": [],
   "source": [
    "# Define a method to update the parameters\n",
    "def update_params(layers, param_grads, learning_rate):\n",
    "    for layer, layer_backprop_grads in list(zip(layers, param_grads)):\n",
    "        for param, grad in zip(layer.get_params_iter(), layer_backprop_grads):\n",
    "            param -= learning_rate * grad  # Update each parameter in place"
   ]
  },
  {
   "cell_type": "code",
   "execution_count": 14,
   "metadata": {
    "collapsed": false,
    "scrolled": true
   },
   "outputs": [
    {
     "name": "stdout",
     "output_type": "stream",
     "text": [
      "0.0% completed\n",
      "10.0% completed\n",
      "20.0% completed\n",
      "30.0% completed\n",
      "40.0% completed\n",
      "50.0% completed\n",
      "60.0% completed\n",
      "70.0% completed\n",
      "80.0% completed\n",
      "90.0% completed\n",
      "100% completed\n"
     ]
    }
   ],
   "source": [
    "# Perform backpropagation\n",
    "       \n",
    "minibatch_costs = []\n",
    "training_costs = []\n",
    "validation_costs = []\n",
    "test_costs = []\n",
    "train_accuracy_arr = []\n",
    "test_accuracy_arr = []\n",
    "\n",
    "max_nb_of_iterations = 200\n",
    "learning_rate = .05\n",
    "\n",
    "y_true_train = np.argmax(T_train, axis=1) \n",
    "y_true_test = np.argmax(T_test, axis=1) \n",
    "\n",
    "for iteration in range(max_nb_of_iterations):\n",
    "    \n",
    "    if iteration%(max_nb_of_iterations/10) == 0:\n",
    "        pc = iteration/(max_nb_of_iterations/10) * 10\n",
    "        print('{}% completed'.format(pc))\n",
    "    \n",
    "    for X, T in XT_batches:  # For each minibatch sub-iteration\n",
    "        activations = forward_step(X, layers)  # Get the activations\n",
    "        minibatch_cost = layers[-1].get_cost(activations[-1], T)  # Get cost\n",
    "        minibatch_costs.append(minibatch_cost)\n",
    "        param_grads = backward_step(activations, T, layers)  # Get the gradients\n",
    "        update_params(layers, param_grads, learning_rate)  # Update the parameters\n",
    "    \n",
    "    # Store training cost\n",
    "    activations = forward_step(X_train, layers)\n",
    "    train_cost = layers[-1].get_cost(activations[-1], T_train)\n",
    "    training_costs.append(train_cost)\n",
    "    \n",
    "    # Store training accuracy\n",
    "    y_pred = np.argmax(activations[-1], axis=1)\n",
    "    train_accuracy_arr.append(metrics.accuracy_score(y_true_train, y_pred))\n",
    "    \n",
    "    # Store validation cost\n",
    "    activations = forward_step(X_validation, layers)\n",
    "    validation_cost = layers[-1].get_cost(activations[-1], T_validation)\n",
    "    validation_costs.append(validation_cost)\n",
    "    \n",
    "    # Store test cost\n",
    "    activations = forward_step(X_test, layers)\n",
    "    test_cost = layers[-1].get_cost(activations[-1], T_test)\n",
    "    test_costs.append(test_cost)\n",
    "    \n",
    "    # Store test accuracy\n",
    "    y_pred = np.argmax(activations[-1], axis=1)\n",
    "    test_accuracy_arr.append(metrics.accuracy_score(y_true_test, y_pred))\n",
    "    \n",
    "#     if len(validation_costs) > 50 and validation_costs[-1] >= validation_costs[-2] >= validation_costs[-3]:\n",
    "#         print(\"Validation cost has not decreased for 3 epoches: \" + str(iteration))\n",
    "#         break\n",
    "            \n",
    "nb_of_iterations = iteration + 1\n",
    "print('100% completed')"
   ]
  },
  {
   "cell_type": "code",
   "execution_count": 15,
   "metadata": {
    "collapsed": false
   },
   "outputs": [
    {
     "data": {
      "image/png": "[encoded data removed]",
      "text/plain": [
       "<matplotlib.figure.Figure at 0x8e1f9e8>"
      ]
     },
     "metadata": {},
     "output_type": "display_data"
    }
   ],
   "source": [
    "# Plot the costs over the iterations\n",
    "iteration_x_inds = np.linspace(1, nb_of_iterations, num=nb_of_iterations)\n",
    "plt.plot(iteration_x_inds, training_costs, 'b-', linewidth=2, label='Training cost')\n",
    "plt.plot(iteration_x_inds, test_costs, 'r-', linewidth=3, label='Test cost')\n",
    "\n",
    "plt.xlabel('iteration')\n",
    "plt.ylabel('$\\\\xi$', fontsize=15)\n",
    "plt.title('14-100-40-4 net - Cost')\n",
    "plt.legend()\n",
    "x1,x2,y1,y2 = plt.axis()\n",
    "plt.axis((0,nb_of_iterations,0,1.5))\n",
    "plt.grid()\n",
    "plt.show()"
   ]
  },
  {
   "cell_type": "code",
   "execution_count": 16,
   "metadata": {
    "collapsed": false
   },
   "outputs": [
    {
     "data": {
      "image/png": "[encoded data removed]",
      "text/plain": [
       "<matplotlib.figure.Figure at 0x90e1828>"
      ]
     },
     "metadata": {},
     "output_type": "display_data"
    }
   ],
   "source": [
    "# Plot the costs over the iterations\n",
    "iteration_x_inds = np.linspace(1, nb_of_iterations, num=nb_of_iterations)\n",
    "plt.plot(iteration_x_inds, train_accuracy_arr, 'b-', linewidth=2, label='Training accuracy')\n",
    "plt.plot(iteration_x_inds, test_accuracy_arr, 'r-', linewidth=3, label='Test accuracy')\n",
    "\n",
    "plt.xlabel('iteration')\n",
    "plt.ylabel('$\\\\xi$', fontsize=15)\n",
    "plt.title('14-100-40-4 net - Accuracy')\n",
    "plt.legend()\n",
    "x1,x2,y1,y2 = plt.axis()\n",
    "plt.axis((0,nb_of_iterations,0,1))\n",
    "plt.grid()\n",
    "plt.show()"
   ]
  },
  {
   "cell_type": "code",
   "execution_count": 17,
   "metadata": {
    "collapsed": false
   },
   "outputs": [
    {
     "name": "stdout",
     "output_type": "stream",
     "text": [
      "(3932, 14)\n"
     ]
    }
   ],
   "source": [
    "print(X_validation.shape)"
   ]
  },
  {
   "cell_type": "code",
   "execution_count": 35,
   "metadata": {
    "collapsed": true
   },
   "outputs": [],
   "source": [
    "# Store training cost\n",
    "n = 1\n",
    "training_costs_m = []\n",
    "validation_costs_m = []\n",
    "test_costs_m = []\n",
    "\n",
    "max_m = X_validation.shape[0]\n",
    "count = 0\n",
    "while n < max_m:\n",
    "    activations = forward_step(X_train[:n, :], layers)\n",
    "    training_costs_m.append(layers[-1].get_cost(activations[-1], T_train[:n, :]))\n",
    "    \n",
    "    activations = forward_step(X_validation[:n, :], layers)\n",
    "    validation_costs_m.append(layers[-1].get_cost(activations[-1], T_validation[:n, :]))\n",
    "    \n",
    "    activations = forward_step(X_test[:n, :], layers)\n",
    "    test_costs_m.append(layers[-1].get_cost(activations[-1], T_test[:n, :]))\n",
    "\n",
    "    n = n + 1;\n",
    "    count +=1"
   ]
  },
  {
   "cell_type": "code",
   "execution_count": 41,
   "metadata": {
    "collapsed": false
   },
   "outputs": [
    {
     "data": {
      "image/png": "[encoded data removed]",
      "text/plain": [
       "<matplotlib.figure.Figure at 0xa851940>"
      ]
     },
     "metadata": {},
     "output_type": "display_data"
    }
   ],
   "source": [
    "iteration_x_inds = np.linspace(1, count, num=count)\n",
    "plt.plot(iteration_x_inds, training_costs_m, 'b-', linewidth=2, label='Training Cost')\n",
    "plt.plot(iteration_x_inds, validation_costs_m, 'r-', linewidth=3, label='Validation Cost')\n",
    "#plt.plot(iteration_x_inds, test_costs_m, 'k-', linewidth=3, label='Test Cost')\n",
    "\n",
    "plt.xlabel('Number of training examples (m)')\n",
    "plt.ylabel('$\\\\xi$', fontsize=15)\n",
    "plt.title('14-100-40-4 net - Learning Curve')\n",
    "plt.legend()\n",
    "x1,x2,y1,y2 = plt.axis()\n",
    "plt.axis((0,count,0,0.06))\n",
    "plt.grid()\n",
    "plt.show()"
   ]
  },
  {
   "cell_type": "code",
   "execution_count": null,
   "metadata": {
    "collapsed": true
   },
   "outputs": [],
   "source": []
  }
 ],
 "metadata": {
  "kernelspec": {
   "display_name": "Python 3",
   "language": "python",
   "name": "python3"
  },
  "language_info": {
   "codemirror_mode": {
    "name": "ipython",
    "version": 3
   },
   "file_extension": ".py",
   "mimetype": "text/x-python",
   "name": "python",
   "nbconvert_exporter": "python",
   "pygments_lexer": "ipython3",
   "version": "3.6.0"
  }
 },
 "nbformat": 4,
 "nbformat_minor": 2
}
